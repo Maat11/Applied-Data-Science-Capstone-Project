{
  "nbformat": 4,
  "nbformat_minor": 0,
  "metadata": {
    "colab": {
      "name": "02_04_begin.ipynb",
      "provenance": []
    },
    "kernelspec": {
      "name": "python3",
      "display_name": "Python 3"
    }
  },
  "cells": [
    {
      "cell_type": "markdown",
      "metadata": {
        "id": "lTguFckTEDWd"
      },
      "source": [
        "# Classifying News Headlines\n",
        "\n",
        "This notebook explains the classification of news headlines as sarcastic and non-sarcastic. We are using the same headlines data as used before.\n"
      ]
    },
    {
      "cell_type": "code",
      "metadata": {
        "id": "9mW3Mt2q5kL2",
        "colab": {
          "base_uri": "https://localhost:8080/"
        },
        "outputId": "e55f4432-e731-4806-9804-851b1acae72c"
      },
      "source": [
        "##import the required libraries and APIs\n",
        "import numpy as np\n",
        "import tensorflow as tf\n",
        "from tensorflow.keras.preprocessing.text import Tokenizer\n",
        "from tensorflow.keras.preprocessing.sequence import pad_sequences\n",
        "\n",
        "print(tf.__version__)"
      ],
      "execution_count": 1,
      "outputs": [
        {
          "output_type": "stream",
          "name": "stdout",
          "text": [
            "2.12.0\n"
          ]
        }
      ]
    },
    {
      "cell_type": "markdown",
      "metadata": {
        "id": "2rhw0j_s5UZ2"
      },
      "source": [
        "## Downloading the News Headlines data"
      ]
    },
    {
      "cell_type": "code",
      "metadata": {
        "id": "XlPflpsyyp5a"
      },
      "source": [
        "!wget --no-check-certificate \\\n",
        "    https://storage.googleapis.com/wdd-2-node.appspot.com/x1.json \\\n",
        "    -o /tmp/headlines.json"
      ],
      "execution_count": 2,
      "outputs": []
    },
    {
      "cell_type": "code",
      "metadata": {
        "colab": {
          "base_uri": "https://localhost:8080/",
          "height": 337
        },
        "id": "qfu_3u4yWjJy",
        "outputId": "df4b5b09-485d-4b20-f9b7-8aa9a619ab0d"
      },
      "source": [
        "##read the the json file using pandas\n",
        "import pandas as pd\n",
        "\n",
        "data = pd.read_json(\"./x1.json\")\n",
        "data.head()"
      ],
      "execution_count": 3,
      "outputs": [
        {
          "output_type": "execute_result",
          "data": {
            "text/plain": [
              "   is_sarcastic                                           headline  \\\n",
              "0             1  thirtysomething scientists unveil doomsday clo...   \n",
              "1             0  dem rep. totally nails why congress is falling...   \n",
              "2             0  eat your veggies: 9 deliciously different recipes   \n",
              "3             1  inclement weather prevents liar from getting t...   \n",
              "4             1  mother comes pretty close to using word 'strea...   \n",
              "\n",
              "                                        article_link  \n",
              "0  https://www.theonion.com/thirtysomething-scien...  \n",
              "1  https://www.huffingtonpost.com/entry/donna-edw...  \n",
              "2  https://www.huffingtonpost.com/entry/eat-your-...  \n",
              "3  https://local.theonion.com/inclement-weather-p...  \n",
              "4  https://www.theonion.com/mother-comes-pretty-c...  "
            ],
            "text/html": [
              "\n",
              "  <div id=\"df-9c9668ef-e42f-4030-85e8-aa49d665ade3\">\n",
              "    <div class=\"colab-df-container\">\n",
              "      <div>\n",
              "<style scoped>\n",
              "    .dataframe tbody tr th:only-of-type {\n",
              "        vertical-align: middle;\n",
              "    }\n",
              "\n",
              "    .dataframe tbody tr th {\n",
              "        vertical-align: top;\n",
              "    }\n",
              "\n",
              "    .dataframe thead th {\n",
              "        text-align: right;\n",
              "    }\n",
              "</style>\n",
              "<table border=\"1\" class=\"dataframe\">\n",
              "  <thead>\n",
              "    <tr style=\"text-align: right;\">\n",
              "      <th></th>\n",
              "      <th>is_sarcastic</th>\n",
              "      <th>headline</th>\n",
              "      <th>article_link</th>\n",
              "    </tr>\n",
              "  </thead>\n",
              "  <tbody>\n",
              "    <tr>\n",
              "      <th>0</th>\n",
              "      <td>1</td>\n",
              "      <td>thirtysomething scientists unveil doomsday clo...</td>\n",
              "      <td>https://www.theonion.com/thirtysomething-scien...</td>\n",
              "    </tr>\n",
              "    <tr>\n",
              "      <th>1</th>\n",
              "      <td>0</td>\n",
              "      <td>dem rep. totally nails why congress is falling...</td>\n",
              "      <td>https://www.huffingtonpost.com/entry/donna-edw...</td>\n",
              "    </tr>\n",
              "    <tr>\n",
              "      <th>2</th>\n",
              "      <td>0</td>\n",
              "      <td>eat your veggies: 9 deliciously different recipes</td>\n",
              "      <td>https://www.huffingtonpost.com/entry/eat-your-...</td>\n",
              "    </tr>\n",
              "    <tr>\n",
              "      <th>3</th>\n",
              "      <td>1</td>\n",
              "      <td>inclement weather prevents liar from getting t...</td>\n",
              "      <td>https://local.theonion.com/inclement-weather-p...</td>\n",
              "    </tr>\n",
              "    <tr>\n",
              "      <th>4</th>\n",
              "      <td>1</td>\n",
              "      <td>mother comes pretty close to using word 'strea...</td>\n",
              "      <td>https://www.theonion.com/mother-comes-pretty-c...</td>\n",
              "    </tr>\n",
              "  </tbody>\n",
              "</table>\n",
              "</div>\n",
              "      <button class=\"colab-df-convert\" onclick=\"convertToInteractive('df-9c9668ef-e42f-4030-85e8-aa49d665ade3')\"\n",
              "              title=\"Convert this dataframe to an interactive table.\"\n",
              "              style=\"display:none;\">\n",
              "        \n",
              "  <svg xmlns=\"http://www.w3.org/2000/svg\" height=\"24px\"viewBox=\"0 0 24 24\"\n",
              "       width=\"24px\">\n",
              "    <path d=\"M0 0h24v24H0V0z\" fill=\"none\"/>\n",
              "    <path d=\"M18.56 5.44l.94 2.06.94-2.06 2.06-.94-2.06-.94-.94-2.06-.94 2.06-2.06.94zm-11 1L8.5 8.5l.94-2.06 2.06-.94-2.06-.94L8.5 2.5l-.94 2.06-2.06.94zm10 10l.94 2.06.94-2.06 2.06-.94-2.06-.94-.94-2.06-.94 2.06-2.06.94z\"/><path d=\"M17.41 7.96l-1.37-1.37c-.4-.4-.92-.59-1.43-.59-.52 0-1.04.2-1.43.59L10.3 9.45l-7.72 7.72c-.78.78-.78 2.05 0 2.83L4 21.41c.39.39.9.59 1.41.59.51 0 1.02-.2 1.41-.59l7.78-7.78 2.81-2.81c.8-.78.8-2.07 0-2.86zM5.41 20L4 18.59l7.72-7.72 1.47 1.35L5.41 20z\"/>\n",
              "  </svg>\n",
              "      </button>\n",
              "      \n",
              "  <style>\n",
              "    .colab-df-container {\n",
              "      display:flex;\n",
              "      flex-wrap:wrap;\n",
              "      gap: 12px;\n",
              "    }\n",
              "\n",
              "    .colab-df-convert {\n",
              "      background-color: #E8F0FE;\n",
              "      border: none;\n",
              "      border-radius: 50%;\n",
              "      cursor: pointer;\n",
              "      display: none;\n",
              "      fill: #1967D2;\n",
              "      height: 32px;\n",
              "      padding: 0 0 0 0;\n",
              "      width: 32px;\n",
              "    }\n",
              "\n",
              "    .colab-df-convert:hover {\n",
              "      background-color: #E2EBFA;\n",
              "      box-shadow: 0px 1px 2px rgba(60, 64, 67, 0.3), 0px 1px 3px 1px rgba(60, 64, 67, 0.15);\n",
              "      fill: #174EA6;\n",
              "    }\n",
              "\n",
              "    [theme=dark] .colab-df-convert {\n",
              "      background-color: #3B4455;\n",
              "      fill: #D2E3FC;\n",
              "    }\n",
              "\n",
              "    [theme=dark] .colab-df-convert:hover {\n",
              "      background-color: #434B5C;\n",
              "      box-shadow: 0px 1px 3px 1px rgba(0, 0, 0, 0.15);\n",
              "      filter: drop-shadow(0px 1px 2px rgba(0, 0, 0, 0.3));\n",
              "      fill: #FFFFFF;\n",
              "    }\n",
              "  </style>\n",
              "\n",
              "      <script>\n",
              "        const buttonEl =\n",
              "          document.querySelector('#df-9c9668ef-e42f-4030-85e8-aa49d665ade3 button.colab-df-convert');\n",
              "        buttonEl.style.display =\n",
              "          google.colab.kernel.accessAllowed ? 'block' : 'none';\n",
              "\n",
              "        async function convertToInteractive(key) {\n",
              "          const element = document.querySelector('#df-9c9668ef-e42f-4030-85e8-aa49d665ade3');\n",
              "          const dataTable =\n",
              "            await google.colab.kernel.invokeFunction('convertToInteractive',\n",
              "                                                     [key], {});\n",
              "          if (!dataTable) return;\n",
              "\n",
              "          const docLinkHtml = 'Like what you see? Visit the ' +\n",
              "            '<a target=\"_blank\" href=https://colab.research.google.com/notebooks/data_table.ipynb>data table notebook</a>'\n",
              "            + ' to learn more about interactive tables.';\n",
              "          element.innerHTML = '';\n",
              "          dataTable['output_type'] = 'display_data';\n",
              "          await google.colab.output.renderOutput(dataTable, element);\n",
              "          const docLink = document.createElement('div');\n",
              "          docLink.innerHTML = docLinkHtml;\n",
              "          element.appendChild(docLink);\n",
              "        }\n",
              "      </script>\n",
              "    </div>\n",
              "  </div>\n",
              "  "
            ]
          },
          "metadata": {},
          "execution_count": 3
        }
      ]
    },
    {
      "cell_type": "code",
      "source": [
        "data.info()"
      ],
      "metadata": {
        "id": "ai0qd-Sk2nom",
        "outputId": "308e8f5c-22e2-4e7c-dcf8-3f5ccadbd0e7",
        "colab": {
          "base_uri": "https://localhost:8080/"
        }
      },
      "execution_count": 5,
      "outputs": [
        {
          "output_type": "stream",
          "name": "stdout",
          "text": [
            "<class 'pandas.core.frame.DataFrame'>\n",
            "RangeIndex: 28619 entries, 0 to 28618\n",
            "Data columns (total 3 columns):\n",
            " #   Column        Non-Null Count  Dtype \n",
            "---  ------        --------------  ----- \n",
            " 0   is_sarcastic  28619 non-null  int64 \n",
            " 1   headline      28619 non-null  object\n",
            " 2   article_link  28619 non-null  object\n",
            "dtypes: int64(1), object(2)\n",
            "memory usage: 670.9+ KB\n"
          ]
        }
      ]
    },
    {
      "cell_type": "code",
      "metadata": {
        "id": "2Q5KWU5sarBZ"
      },
      "source": [
        "##store headlines and labels in respective lists\n",
        "headlines = list(data['headline'])\n",
        "labels = list(data['is_sarcastic'])"
      ],
      "execution_count": 4,
      "outputs": []
    },
    {
      "cell_type": "markdown",
      "metadata": {
        "id": "XrePJ_GANUzv"
      },
      "source": [
        "## Set the parameters"
      ]
    },
    {
      "cell_type": "code",
      "metadata": {
        "id": "SaOVx5_QWZJw"
      },
      "source": [
        "##define tokenizing and padding parameters\n",
        "vocab_size = 10000\n",
        "max_length = 120\n",
        "embedding_dim = 16\n",
        "trunc_type='post'\n",
        "padding_type='post'\n",
        "oov_tok = \"<OOV>\"\n",
        "training_size = 20000"
      ],
      "execution_count": 6,
      "outputs": []
    },
    {
      "cell_type": "markdown",
      "metadata": {
        "id": "TOa0z54JHTtq"
      },
      "source": [
        "## Splitting the training and testing set"
      ]
    },
    {
      "cell_type": "code",
      "metadata": {
        "id": "iPCBLuAYWg-m"
      },
      "source": [
        "##sentences\n",
        "training_sentences = headlines[0:training_size]\n",
        "testing_sentences = headlines[training_size:]\n",
        "\n",
        "##labels\n",
        "training_labels = labels[0:training_size]\n",
        "testing_labels = labels[training_size:]"
      ],
      "execution_count": 7,
      "outputs": []
    },
    {
      "cell_type": "markdown",
      "metadata": {
        "id": "2YPzEKN-NnTx"
      },
      "source": [
        "## Preprocess sentences\n"
      ]
    },
    {
      "cell_type": "code",
      "metadata": {
        "id": "N4k_tDKJYSCL"
      },
      "source": [
        "tokenizer = Tokenizer(num_words=vocab_size, oov_token=oov_tok)\n",
        "tokenizer.fit_on_texts(training_sentences)\n",
        "\n",
        "word_index = tokenizer.word_index\n",
        "\n",
        "training_sequences = tokenizer.texts_to_sequences(training_sentences)\n",
        "training_padded = pad_sequences(training_sequences, maxlen=max_length, padding=padding_type, truncating=trunc_type)\n",
        "\n",
        "testing_sequences = tokenizer.texts_to_sequences(testing_sentences)\n",
        "testing_padded = pad_sequences(testing_sequences, maxlen=max_length, padding=padding_type, truncating=trunc_type)"
      ],
      "execution_count": 8,
      "outputs": []
    },
    {
      "cell_type": "code",
      "metadata": {
        "id": "hFZGH6WXeZAZ"
      },
      "source": [
        "# convert lists into numpy arrays to make it work with TensorFlow 2.x\n",
        "training_padded = np.array(training_padded)\n",
        "training_labels = np.array(training_labels)\n",
        "testing_padded = np.array(testing_padded)\n",
        "testing_labels = np.array(testing_labels)"
      ],
      "execution_count": 9,
      "outputs": []
    },
    {
      "cell_type": "markdown",
      "metadata": {
        "id": "ZpBlIwAz7InY"
      },
      "source": [
        "## Define the neural network model with the following layers:\n",
        "1. Embedding layer\n",
        "2. Global Average pooling layer(1D)\n",
        "3. Dense layer with 24 nodes\n",
        "4. Output Dense layer with `sigmoid` activation "
      ]
    },
    {
      "cell_type": "code",
      "metadata": {
        "id": "JdDjMIDFebsD"
      },
      "source": [
        "model = tf.keras.Sequential([\n",
        "    tf.keras.layers.Embedding(vocab_size, embedding_dim, input_length=max_length),\n",
        "    tf.keras.layers.GlobalAveragePooling1D(),\n",
        "    tf.keras.layers.Dense(24, activation='relu'),\n",
        "    tf.keras.layers.Dense(1, activation='sigmoid')\n",
        "])\n",
        "\n",
        "##compile the model\n",
        "model.compile(loss='binary_crossentropy',optimizer='adam',metrics=['accuracy'])"
      ],
      "execution_count": 12,
      "outputs": []
    },
    {
      "cell_type": "code",
      "metadata": {
        "colab": {
          "base_uri": "https://localhost:8080/"
        },
        "id": "si5PeFv4ed5J",
        "outputId": "e5dd46d5-1e16-4bee-8621-038cc09683e0"
      },
      "source": [
        "model.summary()"
      ],
      "execution_count": 13,
      "outputs": [
        {
          "output_type": "stream",
          "name": "stdout",
          "text": [
            "Model: \"sequential\"\n",
            "_________________________________________________________________\n",
            " Layer (type)                Output Shape              Param #   \n",
            "=================================================================\n",
            " embedding_2 (Embedding)     (None, 120, 16)           160000    \n",
            "                                                                 \n",
            " global_average_pooling1d (G  (None, 16)               0         \n",
            " lobalAveragePooling1D)                                          \n",
            "                                                                 \n",
            " dense (Dense)               (None, 24)                408       \n",
            "                                                                 \n",
            " dense_1 (Dense)             (None, 1)                 25        \n",
            "                                                                 \n",
            "=================================================================\n",
            "Total params: 160,433\n",
            "Trainable params: 160,433\n",
            "Non-trainable params: 0\n",
            "_________________________________________________________________\n"
          ]
        }
      ]
    },
    {
      "cell_type": "markdown",
      "metadata": {
        "id": "q4Sk9WRYHbRh"
      },
      "source": [
        "## Train the model\n",
        "\n",
        "Save it into history"
      ]
    },
    {
      "cell_type": "code",
      "metadata": {
        "colab": {
          "base_uri": "https://localhost:8080/"
        },
        "id": "uuejoPk0efeb",
        "outputId": "6167a362-d4eb-454f-e6a7-2d2ed20011cd"
      },
      "source": [
        "num_epochs = 30\n",
        "history = model.fit(training_padded, \n",
        "                    training_labels, \n",
        "                    epochs=num_epochs, \n",
        "                    validation_data=(testing_padded, testing_labels), \n",
        "                    verbose=2)"
      ],
      "execution_count": 14,
      "outputs": [
        {
          "output_type": "stream",
          "name": "stdout",
          "text": [
            "Epoch 1/30\n",
            "625/625 - 4s - loss: 0.6717 - accuracy: 0.5940 - val_loss: 0.5971 - val_accuracy: 0.7735 - 4s/epoch - 6ms/step\n",
            "Epoch 2/30\n",
            "625/625 - 3s - loss: 0.4580 - accuracy: 0.8219 - val_loss: 0.4003 - val_accuracy: 0.8229 - 3s/epoch - 5ms/step\n",
            "Epoch 3/30\n",
            "625/625 - 3s - loss: 0.3367 - accuracy: 0.8647 - val_loss: 0.3650 - val_accuracy: 0.8369 - 3s/epoch - 4ms/step\n",
            "Epoch 4/30\n",
            "625/625 - 4s - loss: 0.2818 - accuracy: 0.8902 - val_loss: 0.3351 - val_accuracy: 0.8559 - 4s/epoch - 6ms/step\n",
            "Epoch 5/30\n",
            "625/625 - 3s - loss: 0.2467 - accuracy: 0.9036 - val_loss: 0.3309 - val_accuracy: 0.8564 - 3s/epoch - 5ms/step\n",
            "Epoch 6/30\n",
            "625/625 - 3s - loss: 0.2169 - accuracy: 0.9166 - val_loss: 0.3334 - val_accuracy: 0.8565 - 3s/epoch - 4ms/step\n",
            "Epoch 7/30\n",
            "625/625 - 3s - loss: 0.1944 - accuracy: 0.9268 - val_loss: 0.3429 - val_accuracy: 0.8545 - 3s/epoch - 5ms/step\n",
            "Epoch 8/30\n",
            "625/625 - 4s - loss: 0.1774 - accuracy: 0.9328 - val_loss: 0.3543 - val_accuracy: 0.8507 - 4s/epoch - 6ms/step\n",
            "Epoch 9/30\n",
            "625/625 - 3s - loss: 0.1592 - accuracy: 0.9423 - val_loss: 0.3648 - val_accuracy: 0.8515 - 3s/epoch - 5ms/step\n",
            "Epoch 10/30\n",
            "625/625 - 3s - loss: 0.1452 - accuracy: 0.9477 - val_loss: 0.3839 - val_accuracy: 0.8462 - 3s/epoch - 5ms/step\n",
            "Epoch 11/30\n",
            "625/625 - 4s - loss: 0.1327 - accuracy: 0.9538 - val_loss: 0.4093 - val_accuracy: 0.8415 - 4s/epoch - 7ms/step\n",
            "Epoch 12/30\n",
            "625/625 - 3s - loss: 0.1226 - accuracy: 0.9574 - val_loss: 0.4308 - val_accuracy: 0.8394 - 3s/epoch - 5ms/step\n",
            "Epoch 13/30\n",
            "625/625 - 3s - loss: 0.1126 - accuracy: 0.9611 - val_loss: 0.4586 - val_accuracy: 0.8346 - 3s/epoch - 4ms/step\n",
            "Epoch 14/30\n",
            "625/625 - 3s - loss: 0.1043 - accuracy: 0.9644 - val_loss: 0.4708 - val_accuracy: 0.8351 - 3s/epoch - 4ms/step\n",
            "Epoch 15/30\n",
            "625/625 - 3s - loss: 0.0959 - accuracy: 0.9676 - val_loss: 0.4910 - val_accuracy: 0.8354 - 3s/epoch - 4ms/step\n",
            "Epoch 16/30\n",
            "625/625 - 4s - loss: 0.0891 - accuracy: 0.9701 - val_loss: 0.5181 - val_accuracy: 0.8330 - 4s/epoch - 7ms/step\n",
            "Epoch 17/30\n",
            "625/625 - 4s - loss: 0.0814 - accuracy: 0.9743 - val_loss: 0.5554 - val_accuracy: 0.8286 - 4s/epoch - 6ms/step\n",
            "Epoch 18/30\n",
            "625/625 - 3s - loss: 0.0768 - accuracy: 0.9755 - val_loss: 0.5767 - val_accuracy: 0.8292 - 3s/epoch - 5ms/step\n",
            "Epoch 19/30\n",
            "625/625 - 3s - loss: 0.0730 - accuracy: 0.9766 - val_loss: 0.6316 - val_accuracy: 0.8233 - 3s/epoch - 5ms/step\n",
            "Epoch 20/30\n",
            "625/625 - 3s - loss: 0.0655 - accuracy: 0.9797 - val_loss: 0.6757 - val_accuracy: 0.8228 - 3s/epoch - 5ms/step\n",
            "Epoch 21/30\n",
            "625/625 - 3s - loss: 0.0603 - accuracy: 0.9821 - val_loss: 0.6996 - val_accuracy: 0.8204 - 3s/epoch - 4ms/step\n",
            "Epoch 22/30\n",
            "625/625 - 3s - loss: 0.0567 - accuracy: 0.9833 - val_loss: 0.6995 - val_accuracy: 0.8216 - 3s/epoch - 4ms/step\n",
            "Epoch 23/30\n",
            "625/625 - 3s - loss: 0.0525 - accuracy: 0.9847 - val_loss: 0.7437 - val_accuracy: 0.8191 - 3s/epoch - 5ms/step\n",
            "Epoch 24/30\n",
            "625/625 - 4s - loss: 0.0480 - accuracy: 0.9868 - val_loss: 0.8038 - val_accuracy: 0.8173 - 4s/epoch - 6ms/step\n",
            "Epoch 25/30\n",
            "625/625 - 3s - loss: 0.0460 - accuracy: 0.9864 - val_loss: 0.8040 - val_accuracy: 0.8173 - 3s/epoch - 5ms/step\n",
            "Epoch 26/30\n",
            "625/625 - 3s - loss: 0.0434 - accuracy: 0.9872 - val_loss: 0.8504 - val_accuracy: 0.8162 - 3s/epoch - 4ms/step\n",
            "Epoch 27/30\n",
            "625/625 - 3s - loss: 0.0398 - accuracy: 0.9888 - val_loss: 0.8809 - val_accuracy: 0.8140 - 3s/epoch - 4ms/step\n",
            "Epoch 28/30\n",
            "625/625 - 4s - loss: 0.0376 - accuracy: 0.9897 - val_loss: 0.9162 - val_accuracy: 0.8137 - 4s/epoch - 6ms/step\n",
            "Epoch 29/30\n",
            "625/625 - 3s - loss: 0.0349 - accuracy: 0.9907 - val_loss: 0.9698 - val_accuracy: 0.8129 - 3s/epoch - 4ms/step\n",
            "Epoch 30/30\n",
            "625/625 - 3s - loss: 0.0318 - accuracy: 0.9918 - val_loss: 1.0440 - val_accuracy: 0.8087 - 3s/epoch - 4ms/step\n"
          ]
        }
      ]
    },
    {
      "cell_type": "markdown",
      "metadata": {
        "id": "35BigeicGmRo"
      },
      "source": [
        "## Visualise the train & validation accuracy and loss"
      ]
    },
    {
      "cell_type": "code",
      "metadata": {
        "colab": {
          "base_uri": "https://localhost:8080/",
          "height": 881
        },
        "id": "iMQAQr-uehOD",
        "outputId": "d334b3ce-d674-46e1-e796-622125d36163"
      },
      "source": [
        "import matplotlib.pyplot as plt\n",
        "\n",
        "##plot the scores from history\n",
        "def plot_graphs(history, string):\n",
        "  plt.plot(history.history[string])\n",
        "  plt.plot(history.history['val_'+string])\n",
        "  plt.legend([string, 'val_'+string])\n",
        "  plt.xlabel(\"Epochs\")\n",
        "  plt.ylabel(string)\n",
        "  plt.show()\n",
        "  \n",
        "plot_graphs(history, \"accuracy\")\n",
        "plot_graphs(history, \"loss\")"
      ],
      "execution_count": 15,
      "outputs": [
        {
          "output_type": "display_data",
          "data": {
            "text/plain": [
              "<Figure size 640x480 with 1 Axes>"
            ],
            "image/png": "[encoded data removed]"
          },
          "metadata": {}
        },
        {
          "output_type": "display_data",
          "data": {
            "text/plain": [
              "<Figure size 640x480 with 1 Axes>"
            ],
            "image/png": "[encoded data removed]"
          },
          "metadata": {}
        }
      ]
    },
    {
      "cell_type": "markdown",
      "metadata": {
        "id": "FLuGAkBaGzaP"
      },
      "source": [
        "## Classifying a new sentence"
      ]
    },
    {
      "cell_type": "code",
      "metadata": {
        "colab": {
          "base_uri": "https://localhost:8080/"
        },
        "id": "2cVc8w-tejyj",
        "outputId": "2e67c8ce-abd5-4018-b398-3dfc64e3a121"
      },
      "source": [
        "sentence = [\"the baby boy fears spiders in the garden might be real\", \"game of thrones season finale showing this sunday night\"]\n",
        "\n",
        "##prepare the sequences of the sentences in question\n",
        "sequences = tokenizer.texts_to_sequences(sentence)\n",
        "padded_seqs = pad_sequences(sequences, maxlen=max_length, padding=padding_type, truncating=trunc_type)\n",
        "\n",
        "print(model.predict(padded_seqs))"
      ],
      "execution_count": 16,
      "outputs": [
        {
          "output_type": "stream",
          "name": "stdout",
          "text": [
            "1/1 [==============================] - 0s 176ms/step\n",
            "[[9.6454727e-08]\n",
            " [2.1554168e-08]]\n"
          ]
        }
      ]
    },
    {
      "cell_type": "code",
      "metadata": {
        "id": "CwT0yxfRgZY_"
      },
      "source": [],
      "execution_count": null,
      "outputs": []
    }
  ]
}