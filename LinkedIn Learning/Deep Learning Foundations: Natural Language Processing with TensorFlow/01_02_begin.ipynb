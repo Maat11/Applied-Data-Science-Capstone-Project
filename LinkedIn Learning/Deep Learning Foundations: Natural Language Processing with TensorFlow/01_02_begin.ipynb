{
 "cells": [
  {
   "cell_type": "markdown",
   "metadata": {
    "colab_type": "text",
    "id": "view-in-github"
   },
   "source": [
    "<a href=\"https://colab.research.google.com/github/dswh/lil_nlp_with_tensorflow/blob/main/01_02_begin.ipynb\" target=\"_parent\"><img src=\"https://colab.research.google.com/assets/colab-badge.svg\" alt=\"Open In Colab\"/></a>"
   ]
  },
  {
   "cell_type": "markdown",
   "metadata": {
    "id": "su3bfBDiRK9L"
   },
   "source": [
    "# Word Encodings\n",
    "\n",
    "The notebooks explains the implementation of word encodings in NLP using the tensorflow library."
   ]
  },
  {
   "cell_type": "markdown",
   "metadata": {
    "id": "V1vpla79AfJj"
   },
   "source": [
    "## Import libraries and APIs"
   ]
  },
  {
   "cell_type": "code",
   "execution_count": 3,
   "metadata": {
    "id": "dVGySTYgyVgW"
   },
   "outputs": [],
   "source": [
    "## import the tensorflow APIs\n",
    "\n",
    "import tensorflow as tf\n",
    "from tensorflow import keras\n",
    "from tensorflow.keras.preprocessing.text import Tokenizer"
   ]
  },
  {
   "cell_type": "markdown",
   "metadata": {
    "id": "ogxDv27ZAiOc"
   },
   "source": [
    "## Define training sentences"
   ]
  },
  {
   "cell_type": "code",
   "execution_count": 8,
   "metadata": {
    "id": "oC-bEci9Q-EI"
   },
   "outputs": [],
   "source": [
    "##sentences to tokenize\n",
    "train_sentences = [\n",
    "             'It is a sunny day',\n",
    "             'It is a cloudy day'\n",
    "]"
   ]
  },
  {
   "cell_type": "markdown",
   "metadata": {
    "id": "FPwnd4K1AjXM"
   },
   "source": [
    "## Set up the tokenizer"
   ]
  },
  {
   "cell_type": "code",
   "execution_count": 9,
   "metadata": {
    "id": "GbEn11WiT5Sp"
   },
   "outputs": [],
   "source": [
    "##instantiate the tokenizer\n",
    "tokenizer = Tokenizer(num_words=100)\n",
    "\n",
    "##train the tokenizer on training sentences\n",
    "tokenizer.fit_on_texts(train_sentences)\n",
    "\n",
    "##store word index for the words in the sentence\n",
    "word_index = tokenizer.word_index\n"
   ]
  },
  {
   "cell_type": "code",
   "execution_count": 10,
   "metadata": {
    "colab": {
     "base_uri": "https://localhost:8080/"
    },
    "id": "0zZR31LAUM4p",
    "outputId": "2fdf02ce-9be4-44c6-ba93-59460816e119"
   },
   "outputs": [
    {
     "name": "stdout",
     "output_type": "stream",
     "text": [
      "{'it': 1, 'is': 2, 'a': 3, 'day': 4, 'sunny': 5, 'cloudy': 6}\n"
     ]
    }
   ],
   "source": [
    "print(word_index)"
   ]
  },
  {
   "cell_type": "code",
   "execution_count": null,
   "metadata": {
    "id": "ummZO9QPTW2h"
   },
   "outputs": [],
   "source": []
  }
 ],
 "metadata": {
  "colab": {
   "authorship_tag": "ABX9TyMQa1R7+4B+O9SSvbP6C4r1",
   "collapsed_sections": [],
   "include_colab_link": true,
   "name": "01_02_begin.ipynb",
   "provenance": []
  },
  "kernelspec": {
   "display_name": "Python 3 (ipykernel)",
   "language": "python",
   "name": "python3"
  },
  "language_info": {
   "codemirror_mode": {
    "name": "ipython",
    "version": 3
   },
   "file_extension": ".py",
   "mimetype": "text/x-python",
   "name": "python",
   "nbconvert_exporter": "python",
   "pygments_lexer": "ipython3",
   "version": "3.9.13"
  }
 },
 "nbformat": 4,
 "nbformat_minor": 1
}
